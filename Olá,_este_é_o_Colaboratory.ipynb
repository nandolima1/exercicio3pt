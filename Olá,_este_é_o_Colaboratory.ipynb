{
  "cells": [
    {
      "cell_type": "markdown",
      "metadata": {
        "id": "view-in-github",
        "colab_type": "text"
      },
      "source": [
        "<a href=\"https://colab.research.google.com/github/nandolima1/exercicio3pt/blob/main/Ol%C3%A1%2C_este_%C3%A9_o_Colaboratory.ipynb\" target=\"_parent\"><img src=\"https://colab.research.google.com/assets/colab-badge.svg\" alt=\"Open In Colab\"/></a>"
      ]
    },
    {
      "cell_type": "code",
      "source": [
        "fahrenheit = float(input(\"Digite a temperatura em graus Fahrenheit: \"))\n",
        "celsius = 5 * ((fahrenheit - 32) / 9)\n",
        "print(\"A temperatura em graus Celsius é:\", celsius)\n"
      ],
      "metadata": {
        "id": "uksAjSPNcvSq"
      },
      "execution_count": null,
      "outputs": []
    },
    {
      "cell_type": "code",
      "source": [
        "nome = input(\"Digite seu nome: \")\n",
        "idade = int(input(\"Digite sua idade: \"))\n",
        "nacionalidade = input(\"Digite sua nacionalidade: \")\n",
        "hobby = input(\"Digite seu hobby: \")\n",
        "\n",
        "# Impressão com diferentes tipos de formatação\n",
        "print(f\"Nome: {nome},\")\n",
        "print(f\"Idade: {idade}\")\n",
        "print(\"Nacionalidade: {}\".format(nacionalidade))\n",
        "print(\"Hobby: \" + nome + \", \" + str(idade) + \", \" + nacionalidade + \", \" + hobby)  # Concatenação com erro\n"
      ],
      "metadata": {
        "id": "AsZ6mfVXd8UE"
      },
      "execution_count": null,
      "outputs": []
    },
    {
      "cell_type": "code",
      "source": [
        "numero_inteiro = int(input(\"Digite um número inteiro: \"))\n",
        "numero_decimal = float(input(\"Digite um número decimal: \"))\n",
        "numero_texto = input(\"Digite um número em formato de texto: \")\n",
        "\n",
        "# Conversões\n",
        "inteiro_para_decimal = float(numero_inteiro)\n",
        "decimal_para_texto = str(numero_decimal)\n",
        "texto_para_inteiro = int(numero_texto)\n",
        "\n",
        "\n",
        "print(f\"Número inteiro convertido para decimal: {inteiro_para_decimal}, tipo: {type(inteiro_para_decimal)}\")\n",
        "print(f\"Número decimal convertido para texto: {decimal_para_texto}, tipo: {type(decimal_para_texto)}\")\n",
        "print(f\"Número texto convertido para inteiro: {texto_para_inteiro}, tipo: {type(texto_para_inteiro)}\")\n"
      ],
      "metadata": {
        "id": "-zUtRe1IeK5N"
      },
      "execution_count": null,
      "outputs": []
    },
    {
      "cell_type": "code",
      "source": [
        "nome = input(\"Digite um nome: \")\n",
        "telefone = int(input(\"Digite um telefone: \"))\n",
        "\n",
        "# Impressão com diferentes tipos de formatação\n",
        "print(\"Vírgula:\", nome, telefone)\n",
        "print(\"Concatenação: \" + nome + str(telefone))\n",
        "print(f\"f-string: {nome}{telefone}\")\n",
        "print(\"Format:\", \"{}{}\".format(nome, telefone))\n"
      ],
      "metadata": {
        "id": "QY4EN1tagIXA"
      },
      "execution_count": null,
      "outputs": []
    },
    {
      "cell_type": "code",
      "source": [
        "numero_decimal = float(input(\"Digite um número decimal: \"))\n",
        "numero_formatado = \"{:,.2f}\".format(numero_decimal)\n",
        "print(\"R$\", numero_formatado)\n"
      ],
      "metadata": {
        "id": "hlsC-V1OeVXF"
      },
      "execution_count": null,
      "outputs": []
    },
    {
      "cell_type": "code",
      "source": [],
      "metadata": {
        "id": "HvOozQOIe517"
      },
      "execution_count": null,
      "outputs": []
    },
    {
      "cell_type": "code",
      "source": [
        "numero_inteiro = int(input(\"Digite um número inteiro: \"))\n",
        "tamanho = 8\n",
        "numero_formatado = f\"{numero_inteiro:0{tamanho}d}\"  # Preenchimento com zeros à esquerda\n",
        "print(numero_formatado)\n"
      ],
      "metadata": {
        "id": "lJ8pGQHdegXW"
      },
      "execution_count": null,
      "outputs": []
    },
    {
      "cell_type": "code",
      "source": [
        "dia = input(\"Digite o dia de nascimento: \")\n",
        "mes = input(\"Digite o mês de nascimento: \")\n",
        "ano = input(\"Digite o ano de nascimento: \")\n",
        "print(dia + \"/\" + mes + \"/\" + ano)\n"
      ],
      "metadata": {
        "id": "8mso_9wSem73"
      },
      "execution_count": null,
      "outputs": []
    },
    {
      "cell_type": "code",
      "execution_count": null,
      "metadata": {
        "id": "zwFnJsE6vjf8"
      },
      "outputs": [],
      "source": []
    },
    {
      "cell_type": "code",
      "source": [
        "valor_por_hora = float(input(\"Digite quanto você ganha por hora: \"))\n",
        "horas_trabalhadas = float(input(\"Digite o número de horas trabalhadas no mês: \"))\n",
        "\n",
        "salario = valor_por_hora * horas_trabalhadas\n",
        "print(\"O total do seu salário no mês é:\", salario)\n"
      ],
      "metadata": {
        "id": "gAGItORjcVQP"
      },
      "execution_count": null,
      "outputs": []
    },
    {
      "cell_type": "code",
      "source": [
        "import math\n",
        "\n",
        "raio = float(input(\"Digite o raio do círculo: \"))\n",
        "area = math.pi * (raio ** 2)\n",
        "print(\"A área do círculo é:\", area)\n"
      ],
      "metadata": {
        "id": "TmQbqb9AbhAK"
      },
      "execution_count": null,
      "outputs": []
    },
    {
      "cell_type": "code",
      "source": [],
      "metadata": {
        "id": "-ItmhllKfp4_"
      },
      "execution_count": null,
      "outputs": []
    },
    {
      "cell_type": "code",
      "source": [
        "citacao = input(\"Digite uma citação: \")\n",
        "citacao_com_aspas = f'\"{citacao}\"'\n",
        "print(citacao_com_aspas)\n"
      ],
      "metadata": {
        "id": "mpgRBDVSfw3V"
      },
      "execution_count": null,
      "outputs": []
    },
    {
      "cell_type": "code",
      "execution_count": null,
      "metadata": {
        "id": "C4HZx7Gndbrh"
      },
      "outputs": [],
      "source": [
        "import numpy as np\n",
        "from matplotlib import pyplot as plt\n",
        "\n",
        "ys = 200 + np.random.randn(100)\n",
        "x = [x for x in range(len(ys))]\n",
        "\n",
        "plt.plot(x, ys, '-')\n",
        "plt.fill_between(x, ys, 195, where=(ys > 195), facecolor='g', alpha=0.6)\n",
        "\n",
        "plt.title(\"Sample Visualization\")\n",
        "plt.show()"
      ]
    }
  ],
  "metadata": {
    "colab": {
      "name": "Olá, este é o Colaboratory",
      "toc_visible": true,
      "provenance": [],
      "include_colab_link": true
    },
    "kernelspec": {
      "display_name": "Python 3",
      "name": "python3"
    }
  },
  "nbformat": 4,
  "nbformat_minor": 0
}